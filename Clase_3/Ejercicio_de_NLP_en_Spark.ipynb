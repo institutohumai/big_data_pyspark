{
  "nbformat": 4,
  "nbformat_minor": 0,
  "metadata": {
    "colab": {
      "provenance": []
    },
    "kernelspec": {
      "name": "python3",
      "display_name": "Python 3"
    },
    "language_info": {
      "name": "python"
    }
  },
  "cells": [
    {
      "cell_type": "markdown",
      "source": [
        "# Ejercicio de NLP en Spark\n",
        "\n",
        "El objetivo de este ejercicio es generar un modelo que identifique el sentimiento de un Tweet usando tecnicas de procesamiento de lenguaje natural (NLP).\n",
        "\n",
        "Para esto usaremos el dataset en el archivo `Tweets.csv`que pueden encontrarlo en https://storage.googleapis.com/humai-datasets/datasets/Tweets.csv\n",
        "\n",
        "Se tomaran como variables las siguientes columnas:\n",
        "`text`: Texto del tweet.\n",
        "\n",
        "Con esto se buscara predecir el valor de `airline_sentiment` que el sentimiento del tweet. Puede ser positivo, negativo o neutro. Esta\n",
        "\n",
        "Recuerden que para evaluar la performance del modelo es necesario dividir el dataset en train y test y computar la metrica de performance `Accuracy` sobre el dataset de test.\n",
        "\n",
        "Para llevar a cabo estas tareas recomendamos investigar los siguientes conceptos y ver que funciones nos ofrece MLlib para implementarlos:\n",
        "* [Tokenization](https://en.wikipedia.org/wiki/Lexical_analysis#Tokenization)\n",
        "* [Stop Word](https://en.wikipedia.org/wiki/Stop_word) removal\n",
        "* [tf–idf](https://en.wikipedia.org/wiki/Tf%E2%80%93idf)\n",
        "* [Feature hashing](https://en.wikipedia.org/wiki/Feature_hashing)\n"
      ],
      "metadata": {
        "id": "c2rJ3pkMIMe4"
      }
    }
  ]
}