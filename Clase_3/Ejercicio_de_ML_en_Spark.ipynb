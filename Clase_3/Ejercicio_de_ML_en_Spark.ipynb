{
  "nbformat": 4,
  "nbformat_minor": 0,
  "metadata": {
    "colab": {
      "provenance": []
    },
    "kernelspec": {
      "name": "python3",
      "display_name": "Python 3"
    },
    "language_info": {
      "name": "python"
    }
  },
  "cells": [
    {
      "cell_type": "markdown",
      "source": [
        "# Ejercicio de ML en Spark\n",
        "\n",
        "El objetivo de este ejercicio es generar un modelo que prediga si un pasajero del Titanic habria sobrevivido o no.\n",
        "\n",
        "Para esto usaremos este dataset:\n",
        "* https://github.com/datasciencedojo/datasets/raw/master/titanic.csv\n",
        "\n",
        "Se tomaran como variables las siguientes columnas:\n",
        "`Pclass`: Clase del ticket del pasajero.\n",
        "`Age`(opcional): Edad\n",
        "\n",
        "Con esos datos se debera predecir el valor de la variable `Survived`.\n",
        "\n",
        "Recuerden que para evaluar la performance del modelo es necesario dividir el dataset en train y test y computar la metrica de performance `Accuracy` sobre el dataset de test.\n",
        "\n",
        "Notar que en este caso el problema es binario con lo cual seria mas adecuando evaluar la prediccion como de resultado [binario](https://spark.apache.org/docs/latest/api/python/reference/api/pyspark.ml.evaluation.BinaryClassificationEvaluator.html).\n",
        "\n"
      ],
      "metadata": {
        "id": "fgdSrfE6YITX"
      }
    },
    {
      "cell_type": "markdown",
      "source": [],
      "metadata": {
        "id": "dK4dTPfkYJJ7"
      }
    }
  ]
}